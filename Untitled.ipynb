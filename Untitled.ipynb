{
 "cells": [
  {
   "cell_type": "code",
   "execution_count": 4,
   "id": "a45d1c4a-0aa2-4bfc-b485-185a0d494bab",
   "metadata": {},
   "outputs": [],
   "source": [
    "import numpy as np\n"
   ]
  },
  {
   "cell_type": "code",
   "execution_count": 10,
   "id": "fc5d0fab-77cc-4a7a-be69-146f98a4fb1c",
   "metadata": {},
   "outputs": [
    {
     "name": "stdout",
     "output_type": "stream",
     "text": [
      "[[1, 2, 3], [4, 5, 6], [7, 8, 9]]\n",
      "[[1 2 3]\n",
      " [4 5 6]\n",
      " [7 8 9]]\n"
     ]
    }
   ],
   "source": [
    "x=[[1,2,3],[4,5,6],[7,8,9]]\n",
    "print(x)\n",
    "x=np.array(x)\n",
    "print(x)"
   ]
  },
  {
   "cell_type": "code",
   "execution_count": 12,
   "id": "a10bc6b4-709e-4fb6-8024-7f9b56232a1b",
   "metadata": {},
   "outputs": [
    {
     "name": "stdout",
     "output_type": "stream",
     "text": [
      "Total price: $6.7\n",
      "Final price after discount: $6.03\n"
     ]
    }
   ],
   "source": [
    "# Function to calculate the total price of items in a cart\n",
    "def calculate_total(cart):\n",
    "    total = 0\n",
    "    for item in cart:\n",
    "        total += cart[item]  # Add the price of each item\n",
    "    return total\n",
    "\n",
    "# Function to apply a discount\n",
    "def apply_discount(total, discount):\n",
    "    if discount > 0:\n",
    "        return total - (total * discount / 100)\n",
    "    return total\n",
    "\n",
    "# Shopping cart dictionary\n",
    "cart = {\n",
    "    \"apple\": 2.5,\n",
    "    \"banana\": 1.2,\n",
    "    \"milk\": 3.0\n",
    "}\n",
    "\n",
    "# Control flow example\n",
    "total_price = calculate_total(cart)\n",
    "discount = 10  # 10% discount\n",
    "final_price = apply_discount(total_price, discount)\n",
    "\n",
    "print(f\"Total price: ${total_price}\")\n",
    "print(f\"Final price after discount: ${final_price}\")\n"
   ]
  },
  {
   "cell_type": "code",
   "execution_count": null,
   "id": "796f77a2-9154-4eea-ac36-ff3c611f328c",
   "metadata": {},
   "outputs": [],
   "source": []
  }
 ],
 "metadata": {
  "kernelspec": {
   "display_name": "Python 3 (ipykernel)",
   "language": "python",
   "name": "python3"
  },
  "language_info": {
   "codemirror_mode": {
    "name": "ipython",
    "version": 3
   },
   "file_extension": ".py",
   "mimetype": "text/x-python",
   "name": "python",
   "nbconvert_exporter": "python",
   "pygments_lexer": "ipython3",
   "version": "3.12.4"
  }
 },
 "nbformat": 4,
 "nbformat_minor": 5
}
